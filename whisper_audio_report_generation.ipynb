{
 "cells": [
  {
   "cell_type": "code",
   "execution_count": 1,
   "id": "c859525b-e6e6-4574-ac89-d47123fbd1a2",
   "metadata": {},
   "outputs": [],
   "source": [
    "import json\n",
    "import langchain\n",
    "from openai import OpenAI"
   ]
  },
  {
   "cell_type": "code",
   "execution_count": 2,
   "id": "415385e7-d834-4bdf-b867-7ea7a9cc25af",
   "metadata": {},
   "outputs": [],
   "source": [
    "with open('radiology_reports.json', 'rb') as f:\n",
    "    radiology_dict = json.load(f)"
   ]
  },
  {
   "cell_type": "code",
   "execution_count": 3,
   "id": "6012b823-c4ef-456c-a507-0ec8ae9fe8f3",
   "metadata": {},
   "outputs": [],
   "source": [
    "example_report = radiology_dict['data/glioma/Te-gl_0015.jpg'].strip()"
   ]
  },
  {
   "cell_type": "code",
   "execution_count": 4,
   "id": "6cbe6336-c121-4dc0-a49c-a766cde1702a",
   "metadata": {},
   "outputs": [
    {
     "name": "stdout",
     "output_type": "stream",
     "text": [
      "**Case 1**\n",
      "\n",
      "* **Patient:** A 55-year-old female with a history of hypertension and diabetes.\n",
      "* **Chief Complaint:** The patient presents with a 2-week history of progressive headaches and nausea. She has also noticed some difficulty with her vision.\n",
      "* **MRI Findings:** The MRI scan shows a large mass in the right frontal lobe of the brain. The mass is hypointense on T1-weighted images and hyperintense on T2-weighted images. It is surrounded by a rim of edema.\n",
      "* **Diagnosis:** The patient is diagnosed with a glioblastoma. This is a type of primary brain tumor that is characterized by its rapid growth and invasiveness.\n",
      "* **Treatment:** The patient is started on a course of radiation therapy and chemotherapy. She is also given steroids to help reduce the swelling in her brain.\n",
      "* **Prognosis:** The prognosis for glioblastoma is poor. The average survival time is 12-18 months. However, some patients with glioblastoma may live for longer periods of time.\n",
      "\n",
      "**Case 2**\n",
      "\n",
      "* **Patient:** A 35-year-old male with a history of seizures.\n",
      "* **Chief Complaint:** The patient presents with a 2-day history of increased seizure activity. He has also been experiencing some difficulty with his speech and memory.\n",
      "* **MRI Findings:** The MRI scan shows a small mass in the left temporal lobe of the brain. The mass is isointense on T1-weighted images and hyperintense on T2-weighted images. It is surrounded by a rim of edema.\n",
      "* **Diagnosis:** The patient is diagnosed with a meningioma. This is a type of brain tumor that arises from the meninges, which are the membranes that cover the brain and spinal cord. Meningiomas are usually benign, but they can sometimes cause problems if they grow too large.\n",
      "* **Treatment:** The patient is scheduled for surgery to remove the meningioma.\n",
      "* **Prognosis:** The prognosis for meningioma is generally good. Most patients who undergo surgery to remove a meningioma are able to make a full recovery.\n",
      "\n",
      "**Case 3**\n",
      "\n",
      "* **Patient:** A 25-year-old female with a history of migraines.\n",
      "* **Chief Complaint:** The patient presents with a 1-week history of severe headaches. She has also been experiencing some nausea and vomiting.\n",
      "* **MRI Findings:** The MRI scan shows a small area of infarction in the right parietal lobe of the brain. The infarction is hypointense on T1-weighted images and hyperintense on T2-weighted images.\n",
      "* **Diagnosis:** The patient is diagnosed with a cerebral infarction. This is a type of stroke that is caused by a lack of blood flow to the brain. Infarctions can be caused by a variety of factors, including blood clots, emboli, and vasospasm.\n",
      "* **Treatment:** The patient is given aspirin and Plavix to help prevent further blood clots. She is also given fluids and pain medication.\n",
      "* **Prognosis:** The prognosis for cerebral infarction depends on the size and location of the infarction. The patient is likely to make a full recovery, but she may have some residual deficits, such as difficulty with speech or movement.\n"
     ]
    }
   ],
   "source": [
    "print(example_report)"
   ]
  },
  {
   "cell_type": "code",
   "execution_count": 5,
   "id": "49127825-e0c2-4734-b4be-40b1ee72e69b",
   "metadata": {},
   "outputs": [],
   "source": [
    "master_narrative = \"\"\n",
    "\n",
    "counter = 0\n",
    "# Iterate through each file and its corresponding report string in the dictionary\n",
    "for file_name, report in radiology_dict.items():\n",
    "    if counter <= 3:\n",
    "        counter += 1\n",
    "        # Append the file name and report content to the master narrative\n",
    "        master_narrative += f\"Radiology Report for Patient {counter}:\\n{report}\\n\\n\""
   ]
  },
  {
   "cell_type": "code",
   "execution_count": 6,
   "id": "fa9f0fb0-dbd5-45da-ba22-6017129999c2",
   "metadata": {},
   "outputs": [
    {
     "data": {
      "text/plain": [
       "'Radiology Report for Patient 1:\\n **Case 1**\\n\\n* **Patient:** John Smith\\n* **Age:** 45\\n* **Sex:** Male\\n* **Date:** 01/01/2023\\n* **Study:** T2 MRI of the brain\\n* **Diagnosis:** Encephalomalacia\\n\\n**Findings:**\\n\\n* There is a large area of encephalomalacia in the right frontal lobe.\\n* The encephalomalacia is surrounded by a rim of gliosis.\\n* There is no evidence of mass effect.\\n\\n**Impression:**\\n\\n* Encephalomalacia in the right frontal lobe.\\n\\n**Differential Diagnosis**\\n* Stroke\\n* Trauma\\n* Infection\\n* Tumor\\n\\n**Recommendations:**\\n\\n* The patient should be evaluated by a neurologist.\\n* The patient should undergo a CT scan of the brain to rule out any other pathology.\\n* The patient should be started on a course of corticosteroids to reduce inflammation.\\n\\n**Case 2**\\n\\n* **Patient:** Jane Doe\\n* **Age:** 35\\n* **Sex:** Female\\n* **Date:** 01/01/2023\\n* **Study:** T2 MRI of the brain\\n* **Diagnosis:** Multiple sclerosis\\n\\n**Findings:**\\n\\n* There are multiple areas of demyelination in the white matter of the '"
      ]
     },
     "execution_count": 6,
     "metadata": {},
     "output_type": "execute_result"
    }
   ],
   "source": [
    "master_narrative[:1000]"
   ]
  },
  {
   "cell_type": "code",
   "execution_count": 9,
   "id": "a1f03a72-6fd9-491c-be09-d0529a785e64",
   "metadata": {},
   "outputs": [],
   "source": [
    "client = OpenAI(api_key = \"\")\n",
    "audio = client.audio.speech.create(\n",
    "    model = 'tts-1',\n",
    "    voice = 'onyx',\n",
    "    input = master_narrative\n",
    ")"
   ]
  },
  {
   "cell_type": "code",
   "execution_count": 10,
   "id": "fb302898-f375-4b27-adee-d4114b858345",
   "metadata": {},
   "outputs": [],
   "source": [
    "audio.write_to_file('radiology_audio.mp3')"
   ]
  },
  {
   "cell_type": "code",
   "execution_count": null,
   "id": "655b7a66-1700-4bb4-90ee-6a77fe509538",
   "metadata": {},
   "outputs": [],
   "source": []
  }
 ],
 "metadata": {
  "kernelspec": {
   "display_name": "Python 3 (ipykernel)",
   "language": "python",
   "name": "python3"
  },
  "language_info": {
   "codemirror_mode": {
    "name": "ipython",
    "version": 3
   },
   "file_extension": ".py",
   "mimetype": "text/x-python",
   "name": "python",
   "nbconvert_exporter": "python",
   "pygments_lexer": "ipython3",
   "version": "3.10.13"
  }
 },
 "nbformat": 4,
 "nbformat_minor": 5
}
